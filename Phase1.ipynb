{
 "cells": [
  {
   "cell_type": "code",
   "execution_count": 1,
   "metadata": {},
   "outputs": [],
   "source": [
    "import numpy as np\n",
    "import matplotlib.pyplot as plt\n",
    "from scipy.ndimage import rotate\n",
    "from PIL import Image\n",
    "import ipywidgets as widgets\n",
    "from io import BytesIO\n",
    "from IPython.display import display\n",
    "import matplotlib as mpl"
   ]
  },
  {
   "cell_type": "markdown",
   "metadata": {},
   "source": [
    "# Defining Environment"
   ]
  },
  {
   "cell_type": "code",
   "execution_count": 2,
   "metadata": {},
   "outputs": [],
   "source": [
    "## Parameters for drawing the map\n",
    "\n",
    "WALL_MAP_VALUE = 1\n",
    "REWARD_MAP_VALUE = 2\n",
    "EXIT_MAP_VALUE = 3\n",
    "REWARD_SPARSITY = 0.1"
   ]
  },
  {
   "cell_type": "code",
   "execution_count": 3,
   "metadata": {
    "code_folding": [
     0,
     31,
     89
    ]
   },
   "outputs": [],
   "source": [
    "def create_corridor(CORRIDOR_SHAPE, SEED = 42):\n",
    "    \"\"\"creates an array corresponding to a corridor of the level\"\"\"\n",
    "    # instantiate corridor with rewards\n",
    "    np.random.seed(SEED)\n",
    "    corridor = np.random.choice([REWARD_MAP_VALUE, 0], size = CORRIDOR_SHAPE, p = [REWARD_SPARSITY, 1-REWARD_SPARSITY])\n",
    "\n",
    "    # add walls\n",
    "    SPACE = 5\n",
    "    GAP = 2\n",
    "    GAP_UP = -1\n",
    "    GAP_DOWN = -2\n",
    "\n",
    "    wall_x = SPACE\n",
    "    orientation = GAP_UP\n",
    "\n",
    "    while wall_x < CORRIDOR_SHAPE[0]:\n",
    "        if orientation == GAP_UP: \n",
    "            corridor[wall_x, GAP:] = WALL_MAP_VALUE\n",
    "            orientation = GAP_DOWN\n",
    "        elif orientation == GAP_DOWN:\n",
    "            corridor[wall_x, :-GAP] = WALL_MAP_VALUE\n",
    "            orientation = GAP_UP\n",
    "        wall_x += SPACE\n",
    "        \n",
    "    # place exit at the end of corridor and remove existing walls\n",
    "    corridor[-1, :] = 0\n",
    "    corridor[-1, CORRIDOR_SHAPE[1]//2] = EXIT_MAP_VALUE\n",
    "    \n",
    "        \n",
    "    return corridor\n",
    "\n",
    "def create_map(CORRIDOR_SHAPE, corridors):\n",
    "    \"\"\"creates a map from a list of corridors.\"\"\"\n",
    "    size = 2*CORRIDOR_SHAPE[0] + CORRIDOR_SHAPE[1] \n",
    "    center_xy = int((size - 1)/ 2)\n",
    "    \n",
    "    terrain = np.ones((size, size))\n",
    "    \n",
    "    # add right corridor\n",
    "    if True:\n",
    "        i = 0\n",
    "        start_x  = int(center_xy + (CORRIDOR_SHAPE[1])/2) + 1\n",
    "        end_x = int(start_x + CORRIDOR_SHAPE[0])\n",
    "\n",
    "        start_y = int(center_xy - (CORRIDOR_SHAPE[1]-1)/2)\n",
    "        end_y = int(start_y + CORRIDOR_SHAPE[1])\n",
    "\n",
    "        terrain[start_x:end_x, start_y : end_y] = rotate(corridors[i], angle = 90*i)\n",
    "    \n",
    "    # add top corridor\n",
    "    if True:\n",
    "        i = 1\n",
    "        start_x  = int(center_xy - (CORRIDOR_SHAPE[1]-1)/2)\n",
    "        end_x = int(start_x + CORRIDOR_SHAPE[1])\n",
    "\n",
    "        start_y = int(center_xy + (CORRIDOR_SHAPE[1]-1)/2) + 1\n",
    "        end_y = int(start_y + CORRIDOR_SHAPE[0])\n",
    "\n",
    "        terrain[start_x:end_x, start_y : end_y] = rotate(corridors[i], angle = 90*i)\n",
    "\n",
    "    # add left corridor\n",
    "    if True:\n",
    "        i = 2\n",
    "        start_x  = 0\n",
    "        end_x = int(start_x + CORRIDOR_SHAPE[0])\n",
    "\n",
    "        start_y = int(center_xy - (CORRIDOR_SHAPE[1]-1)/2) \n",
    "        end_y = int(start_y + CORRIDOR_SHAPE[1])\n",
    "\n",
    "        terrain[start_x:end_x, start_y : end_y] = rotate(corridors[i], angle = 90*i)\n",
    "\n",
    "    # add bottom corridor\n",
    "    if True:\n",
    "        i = 3\n",
    "        start_x  = int(center_xy - (CORRIDOR_SHAPE[1]-1)/2)\n",
    "        end_x = int(start_x + CORRIDOR_SHAPE[1])\n",
    "\n",
    "        end_y = int(center_xy - (CORRIDOR_SHAPE[1]-1)/2)\n",
    "        start_y = int(start_y - CORRIDOR_SHAPE[0])\n",
    "\n",
    "        terrain[start_x:end_x, start_y : end_y] = rotate(corridors[i], angle = 90*i)\n",
    "  \n",
    "    # add Fork from starting position\n",
    "    if True:\n",
    "        terrain[center_xy , center_xy - CORRIDOR_SHAPE[1]//2: center_xy + CORRIDOR_SHAPE[1] //2 + 1] = 0\n",
    "        terrain[center_xy - CORRIDOR_SHAPE[1]//2: center_xy + CORRIDOR_SHAPE[1] //2 + 1, center_xy] = 0\n",
    "        \n",
    "    return terrain\n",
    "    \n",
    "def create_env(CORRIDOR_SHAPE, SEEDS = [42, 43, 44, 45]):\n",
    "    \"\"\"creates both the corridors and the map.\"\"\"\n",
    "    corridors = [create_corridor(CORRIDOR_SHAPE, SEEDS[i]) for i in range(4)]\n",
    "    env = create_map(CORRIDOR_SHAPE, corridors)\n",
    "    return env\n",
    "    "
   ]
  },
  {
   "cell_type": "code",
   "execution_count": 4,
   "metadata": {},
   "outputs": [
    {
     "data": {
      "image/png": "[encoded data removed]",
      "text/plain": [
       "<Figure size 720x720 with 1 Axes>"
      ]
     },
     "metadata": {
      "needs_background": "light"
     },
     "output_type": "display_data"
    }
   ],
   "source": [
    "SEEDS = [42, 43, 44, 45]\n",
    "CORRIDOR_SHAPE = (41, 11) # should be odd numbers for perfect symmetry\n",
    "\n",
    "\n",
    "env = create_env(CORRIDOR_SHAPE, SEEDS)\n",
    "plt.imshow(rotate(env, angle= 90))\n",
    "fig = plt.gcf()\n",
    "fig.set_size_inches(10,10)\n",
    "\n",
    "# Yellow : Exit\n",
    "# Green : Rewards\n",
    "# Blue : Walls (unexplorable coordinates)"
   ]
  },
  {
   "cell_type": "code",
   "execution_count": 5,
   "metadata": {},
   "outputs": [
    {
     "data": {
      "image/png": "[encoded data removed]",
      "text/plain": [
       "<Figure size 432x288 with 4 Axes>"
      ]
     },
     "metadata": {
      "needs_background": "light"
     },
     "output_type": "display_data"
    }
   ],
   "source": [
    "corridors = [create_corridor(CORRIDOR_SHAPE, SEEDS[i]) for i in range(4)]\n",
    "for i, corridor in enumerate(corridors):\n",
    "    plt.subplot(1, 4, i+1)\n",
    "    plt.imshow(rotate(corridor.T, angle = 90*i))"
   ]
  },
  {
   "cell_type": "markdown",
   "metadata": {},
   "source": [
    "## Define Agent"
   ]
  },
  {
   "cell_type": "code",
   "execution_count": 6,
   "metadata": {
    "code_folding": []
   },
   "outputs": [],
   "source": [
    "class Agent():\n",
    "    def __init__(self, CORRIDOR_SHAPE):\n",
    "        size = 2*CORRIDOR_SHAPE[0] + CORRIDOR_SHAPE[1] \n",
    "        center_xy = int((size - 1)/ 2)\n",
    "        self.x = center_xy\n",
    "        self.y = center_xy\n",
    "    \n",
    "    def action(self, choice):\n",
    "        if choice == 0:\n",
    "            # go left\n",
    "            self.__move__(-1, 0)\n",
    "        if choice == 1:\n",
    "            # go up\n",
    "            self.__move__(0, 1)\n",
    "        if choice == 2:\n",
    "            # go right:\n",
    "            self.__move__(1, 0)\n",
    "        if choice == 3:\n",
    "            # go down\n",
    "            self.__move__(0, -1)\n",
    "        return\n",
    "    \n",
    "    def __move__(self, x, y):\n",
    "        self.x += x\n",
    "        self.y += y\n",
    "        return\n",
    "    \n",
    "    def get_coords(self):\n",
    "        return (self.x, self.y)"
   ]
  },
  {
   "cell_type": "code",
   "execution_count": 67,
   "metadata": {
    "code_folding": [
     39,
     182
    ]
   },
   "outputs": [],
   "source": [
    "class Phase1():\n",
    "    def __init__(self, CORRIDOR_SHAPE = (21, 11), SEEDS = [42, 43, 44, 45]):\n",
    "        # HYPERPARAMETERS\n",
    "        self.EXPLORE_ITER          = 200\n",
    "        self.W1                    = 1    # weight of # of times chosen attribute\n",
    "        self.W2                    = 1    # weight of # of times seen attribute\n",
    "        self.W3                    = 1    # weight of # of times chosen since it has led to a new discovery attribute\n",
    "        self.P1                    = 2   \n",
    "        self.P2                    = 2\n",
    "        self.P3                    = 2\n",
    "        self.E1                    = 1e-1\n",
    "        self.E2                    = 1e-1\n",
    "        self.WN_HORIZONTAL         = 10\n",
    "        self.WN_VERTICAL           = 10\n",
    "        self.WN_REWARD             = 100\n",
    "        \n",
    "        # Initialization\n",
    "        self.env = create_env(CORRIDOR_SHAPE, SEEDS)\n",
    "        self.MAX_SCORE = len(np.where(self.env == REWARD_MAP_VALUE)[0])\n",
    "        self.agent = Agent(CORRIDOR_SHAPE = CORRIDOR_SHAPE)\n",
    "        self.archive = {}               # contains the trajectory of actions leading to a cell\n",
    "        self.cell_attributes = {}       # contains the three attributes of the cells\n",
    "        self.cell_scores = {}           # contains the cell scores\n",
    "        self.cell_states = {}           # contains the state of the environment and the position of the agent\n",
    "        self.cell_cumulative_scores = {} # contains the cumulative score obtained at a given cell\n",
    "        self.xys = {}\n",
    "        \n",
    "        # Add initial cell to archive\n",
    "        size = 2*CORRIDOR_SHAPE[0] + CORRIDOR_SHAPE[1] \n",
    "        center_xy = int((size - 1)/ 2)\n",
    "        cell_key = \"{},{}\".format(center_xy, center_xy)\n",
    "        \n",
    "        self.archive[cell_key] = []\n",
    "        self.cell_attributes[cell_key] = [0, 0, 0]\n",
    "        self.cell_scores[cell_key] = 1\n",
    "        self.cell_states[cell_key] = [self.env.copy(), self.agent.get_coords()]\n",
    "        self.cell_cumulative_scores[cell_key] = 0\n",
    "        self.xys[cell_key] = [(center_xy, center_xy)]\n",
    "        \n",
    "    def choose_cell(self):\n",
    "        \"\"\"Chooses a cell randomly from the archive.\"\"\"\n",
    "        # reset seed\n",
    "        np.random.seed()\n",
    "        \n",
    "        keys = list(self.cell_scores.keys())\n",
    "        scores = list(self.cell_scores.values())\n",
    "        \n",
    "        chosen_cell_key = np.random.choice(keys, size = 1, p = scores)[0]\n",
    "        chosen_cell_x = chosen_cell_key.split(',')[0]\n",
    "        chosen_cell_y = chosen_cell_key.split(',')[1]\n",
    "        \n",
    "        # update number of times a cell has been chosen as a cell to explore from\n",
    "        self.cell_attributes[chosen_cell_key][0] += 1\n",
    "        \n",
    "        return (chosen_cell_x, chosen_cell_y)\n",
    "    \n",
    "    def store_cell(self, c, trajectory, cumulative_score, agent_xy):\n",
    "        \"\"\"Adds a cell c and the trajectory of actions that led to c to the archive.\"\"\"\n",
    "        cell_key = \"{},{}\".format(c[0], c[1])\n",
    "        \n",
    "        self.xys[cell_key] = agent_xy.copy()\n",
    "        self.archive[cell_key] = trajectory.copy()\n",
    "        #print(\"cumulative_score\", cumulative_score)\n",
    "        self.cell_cumulative_scores[cell_key] = cumulative_score\n",
    "        #print(len(np.where(self.env == REWARD_MAP_VALUE)[0]))\n",
    "        self.cell_states[cell_key] = [self.env.copy(), self.agent.get_coords()]\n",
    "        try:\n",
    "            # assert if cell was already in the archive. This is done to keep the metadata of the cell intact.\n",
    "            len(self.cell_attributes[cell_key])\n",
    "        except:\n",
    "            # if it was not then set its attributes to 0 and its score to 0\n",
    "            self.cell_attributes[cell_key] = [0, 0, 0]\n",
    "            self.cell_scores[cell_key] = 0\n",
    "            \n",
    "        return\n",
    "        \n",
    "    def should_store(self, c, trajectory, cumulative_score, agent_xy):\n",
    "        \"\"\"Assesses whether a cell c and the trajectory of actions that led to c shoud be stored in the archive.\"\"\"\n",
    "        cell_key = \"{},{}\".format(c[0], c[1])\n",
    "        if not cell_key in list(self.xys):\n",
    "            return True\n",
    "        \n",
    "        # if the cell was already in the archive then it should be added if \n",
    "        #    i) the trajectory is shorter\n",
    "        #   ii) the cumulative score is higher\n",
    "\n",
    "        length_old_trajectory = len(self.xys[cell_key])\n",
    "        length_new_trajectory = len(agent_xy)\n",
    "\n",
    "        if length_new_trajectory < length_old_trajectory:\n",
    "            if cumulative_score >= self.cell_cumulative_scores[cell_key]:\n",
    "                #print(\"lengths:\", length_old_trajectory, length_new_trajectory)\n",
    "                return True\n",
    "\n",
    "        if cumulative_score > self.cell_cumulative_scores[cell_key]:\n",
    "            #print(\"old score\", self.cell_cumulative_scores[cell_key], \"new score\", cumulative_score)\n",
    "            return True        \n",
    "        return False\n",
    "        \n",
    "        \n",
    "    def explore(self):\n",
    "        \"\"\"Launches exploration procedure.\"\"\"\n",
    "        # reset seed\n",
    "        np.random.seed()\n",
    "        \n",
    "        self.agent = Agent(self.env.shape)\n",
    "        starting_cell = self.choose_cell()\n",
    "        starting_cell_key = \"{},{}\".format(starting_cell[0], starting_cell[1])\n",
    "        \n",
    "        self.agent.x = self.cell_states[starting_cell_key][1][0]\n",
    "        self.agent.y = self.cell_states[starting_cell_key][1][1]\n",
    "        self.env = self.cell_states[starting_cell_key][0].copy()\n",
    "        cumulative_score = self.cell_cumulative_scores[starting_cell_key]\n",
    "        trajectory = self.archive[starting_cell_key].copy()\n",
    "        agent_xy = self.xys[starting_cell_key].copy()\n",
    "\n",
    "        has_discovered = False\n",
    "        \n",
    "        oob_x = np.where(self.env[0] == 1)[0]\n",
    "        oob_y = np.where(self.env[:,0] == 1)[0]\n",
    "\n",
    "        oob = []\n",
    "        for x in oob_x:\n",
    "            for y in oob_y:\n",
    "                oob.append((x, y))\n",
    "        \n",
    "        # Launch exploration\n",
    "        for k in range(self.EXPLORE_ITER):\n",
    "            # assess if oob\n",
    "            if (self.agent.x, self.agent.y) in oob:\n",
    "                print(\"OUT OF BOUNDS\")\n",
    "            \n",
    "            \n",
    "            # assess available actions\n",
    "            possible_actions, _ = self.get_possible_actions(self.agent.x, self.agent.y)\n",
    "            n = len(possible_actions)\n",
    "            \n",
    "            # choose an action randomly\n",
    "            choice = np.random.choice(possible_actions, size = 1, p = [1/n] * n)[0]\n",
    "            self.agent.action(choice)\n",
    "                        \n",
    "            # assess if agent has left the map\n",
    "            if self.env[self.agent.x, self.agent.y] == EXIT_MAP_VALUE:\n",
    "                break\n",
    "            \n",
    "            # update cell metadata\n",
    "            reward = self.get_reward()\n",
    "            if reward == 1:\n",
    "                cumulative_score += reward\n",
    "                self.env[self.agent.x, self.agent.y] = 0\n",
    "    \n",
    "            trajectory.append(choice)\n",
    "            agent_xy.append(self.agent.get_coords())\n",
    "            c = (self.agent.x, self.agent.y)\n",
    "            cell_key =\"{},{}\".format(c[0], c[1])\n",
    "            \n",
    "            # store cell\n",
    "            if self.should_store(c, trajectory, cumulative_score, agent_xy):\n",
    "                self.store_cell(c, trajectory, cumulative_score, agent_xy)\n",
    "                # reset number of times a cell has been chosen since it last produced the discovery of a new or better cell\n",
    "                self.cell_attributes[starting_cell_key][2] = 0\n",
    "                has_discovered = True\n",
    "            \n",
    "            # update number of times a cell was visited at any point during phase 1\n",
    "            self.cell_attributes[cell_key][1] += 1\n",
    "        ### END OF EXPLORATION\n",
    "        \n",
    "        # update number of times the starting cell has been chosen since it last produced the discovery of a new or better cell\n",
    "        if has_discovered == False:\n",
    "            self.cell_attributes[starting_cell_key][2] += 1\n",
    "        \n",
    "        self.compute_cell_scores()\n",
    "        return\n",
    "            \n",
    "    def get_reward(self):\n",
    "        x, y = self.agent.x, self.agent.y\n",
    "        if self.env[x, y] == REWARD_MAP_VALUE:\n",
    "            return 1\n",
    "        else:\n",
    "            return 0\n",
    "            \n",
    "    def get_possible_actions(self, x, y):\n",
    "        \"\"\"Assesses the possible actions available to the agent.\"\"\"        \n",
    "        choices = []\n",
    "        neighbors = []\n",
    "        if x - 1 >= 0:\n",
    "            if self.env[x-1, y] != WALL_MAP_VALUE:\n",
    "                choices.append(0)\n",
    "                neighbors.append((x-1, y))\n",
    "        \n",
    "        if y + 1 < self.env.shape[1]:\n",
    "            if self.env[x, y+1] != WALL_MAP_VALUE:\n",
    "                choices.append(1)\n",
    "                neighbors.append((x, y+1))\n",
    "        \n",
    "        if x + 1 < self.env.shape[0]:\n",
    "            if self.env[x+1, y] != WALL_MAP_VALUE:\n",
    "                choices.append(2)\n",
    "                neighbors.append((x+1, y))\n",
    "        \n",
    "        if y - 1 >= 0:\n",
    "            if self.env[x, y-1] != WALL_MAP_VALUE:\n",
    "                choices.append(3)\n",
    "                neighbors.append((x, y-1))\n",
    "                \n",
    "        return choices, neighbors\n",
    "    \n",
    "    def cell_count_score(self, c):\n",
    "        \"\"\"Computes the Count Score of a given cell.\"\"\"\n",
    "        cell_key = \"{},{}\".format(c[0], c[1])\n",
    "        attribute_values = np.array(self.cell_attributes[cell_key])\n",
    "        attribute_weights = np.array([self.W1, self.W2, self.W3])\n",
    "        attribute_powers = np.array([self.P1, self.P2, self.P3])\n",
    "        \n",
    "        scores = attribute_weights * ((attribute_values + self.E1)**-attribute_powers)\n",
    "        \n",
    "        return scores.sum() + self.E2\n",
    "        \n",
    "    def cell_neighbor_score(self, c):\n",
    "        \"\"\"Computes the Neighbor Score of a given cell.\"\"\"\n",
    "        _, neighbors = self.get_possible_actions(*c)\n",
    "        scores = np.zeros(4)\n",
    "        \n",
    "        for i,neighbor in enumerate(neighbors):\n",
    "            try:\n",
    "                neighbor_key = \"{},{}\".format(neighbor[0], neighbor[1])\n",
    "                len(self.archive[neighbor_key])\n",
    "            except:\n",
    "                # if this neighbor is new add associated score\n",
    "                if self.env[neighbor] == REWARD_MAP_VALUE:\n",
    "                    scores[i] = self.WN_REWARD\n",
    "                elif i == 0 or i == 2:\n",
    "                    scores[i] = self.WN_HORIZONTAL\n",
    "                else:\n",
    "                    scores[i] = self.WN_VERTICAL\n",
    "        return scores.sum()\n",
    "    \n",
    "    def compute_cell_scores(self):\n",
    "        \"\"\"Computes the scores of every cell in the archive.\"\"\"\n",
    "        cell_keys = list(self.archive.keys())\n",
    "        cell_scores = np.zeros(len(cell_keys))\n",
    "        \n",
    "        for i,cell_key in enumerate(cell_keys):\n",
    "            c = (int(cell_key.split(',')[0]), int(cell_key.split(',')[1]))\n",
    "            cell_scores[i] = self.cell_count_score(c) + self.cell_neighbor_score(c) + 1\n",
    "        \n",
    "        cell_scores = cell_scores / cell_scores.sum()\n",
    "        \n",
    "        for i, cell_key in enumerate(cell_keys):\n",
    "            self.cell_scores[cell_key] = cell_scores[i]        \n",
    "        \n",
    "        return"
   ]
  },
  {
   "cell_type": "code",
   "execution_count": 8,
   "metadata": {
    "code_folding": [
     60
    ]
   },
   "outputs": [],
   "source": [
    "\n",
    "def get_best_trajectory(phase1):\n",
    "    \"\"\"Returns a tuple of (x,y) tuples in the trajectory that got the best score\"\"\"\n",
    "    max_score = -1\n",
    "    cell = next(iter(phase1.cell_cumulative_scores.keys()))\n",
    "    for key, value in phase1.cell_cumulative_scores.items():\n",
    "        if value >= max_score and len(phase1.xys[key]) < len(phase1.xys[cell]):\n",
    "            cell = key\n",
    "        elif value > max_score:\n",
    "            max_score = value\n",
    "            cell = key\n",
    "\n",
    "    path = phase1.xys[cell]\n",
    "    real_trajectory_x = []\n",
    "    real_trajectory_y = []\n",
    "\n",
    "    for xy in path:\n",
    "        real_trajectory_x.append(xy[0])\n",
    "        real_trajectory_y.append(xy[1])\n",
    "\n",
    "    real_trajectory_x = tuple(real_trajectory_x)\n",
    "    real_trajectory_y = tuple(real_trajectory_y)\n",
    "\n",
    "    real_trajectory = tuple([real_trajectory_x, real_trajectory_y])\n",
    "    return real_trajectory\n",
    "\n",
    "\n",
    "def get_best_trajectory_matrix(phase1):\n",
    "    max_score = -1\n",
    "    cell = next(iter(phase1.cell_cumulative_scores.keys()))\n",
    "    for key, value in phase1.cell_cumulative_scores.items():\n",
    "        if value >= max_score and len(phase1.xys[key]) < len(phase1.xys[cell]):\n",
    "            cell = key\n",
    "        elif value > max_score:\n",
    "            max_score = value\n",
    "            cell = key\n",
    "\n",
    "    path = phase1.xys[cell]\n",
    "    real_trajectory_x = []\n",
    "    real_trajectory_y = []\n",
    "\n",
    "    for xy in path:\n",
    "        real_trajectory_x.append(xy[0])\n",
    "        real_trajectory_y.append(xy[1])\n",
    "\n",
    "    real_trajectory_x = tuple(real_trajectory_x)\n",
    "    real_trajectory_y = tuple(real_trajectory_y)\n",
    "    real_trajectory = tuple([real_trajectory_x, real_trajectory_y])\n",
    "\n",
    "    env2 = phase1.cell_states[cell][0].copy()\n",
    "    env2[real_trajectory] = EXIT_MAP_VALUE\n",
    "    env2 = (env2 - env2.min()) / env2.max() * 255\n",
    "    return env2\n",
    "\n",
    "\n",
    "def get_neighbor_score_matrix(phase1):\n",
    "    score_matrix = np.zeros(phase1.env.shape)\n",
    "    for key in phase1.cell_scores.keys():\n",
    "        x = int(key.split(\",\")[0])\n",
    "        y = int(key.split(\",\")[1])\n",
    "        score_matrix[x, y] = phase1.cell_neighbor_score((x, y))\n",
    "\n",
    "    min_score = score_matrix[score_matrix > 0].min()\n",
    "    max_score = score_matrix.max()\n",
    "    score_matrix = (score_matrix - min_score) / max_score\n",
    "\n",
    "    return score_matrix\n",
    "\n",
    "\n",
    "def get_score_matrix(phase1):\n",
    "    score_matrix = np.zeros(phase1.env.shape)\n",
    "\n",
    "    for key, value in phase1.cell_scores.items():\n",
    "        x = int(key.split(\",\")[0])\n",
    "        y = int(key.split(\",\")[1])\n",
    "        score_matrix[x, y] = value\n",
    "\n",
    "    min_score = score_matrix[score_matrix > 0].min()\n",
    "    max_score = score_matrix.max()\n",
    "    # print(min_score, max_score)\n",
    "    score_matrix = (score_matrix - min_score) / max_score * 255\n",
    "    return score_matrix\n",
    "\n",
    "\n",
    "def save_score_matrix(phase1, i):\n",
    "    score_matrix = get_score_matrix(phase1)\n",
    "    score_matrix = np.array(Image.fromarray(score_matrix).resize((512, 512)))\n",
    "    path = \"./score_matrix/score_matrix_\" + str(i) + \".jpg\"\n",
    "    plt.imsave(path, score_matrix, cmap='gray')\n",
    "    return path\n",
    "\n",
    "\n",
    "def save_neighbor_score_matrix(phase1, i):\n",
    "    score_matrix = get_neighbor_score_matrix(phase1)\n",
    "    score_matrix = np.array(Image.fromarray(score_matrix).resize((512, 512)))\n",
    "    path = \"./neigh_score_matrix/score_matrix_\" + str(i) + \".jpg\"\n",
    "    plt.imsave(path, score_matrix, cmap='gray')\n",
    "    return path\n",
    "\n",
    "\n",
    "def save_trajectory(phase1, i):\n",
    "    trajectory = get_best_trajectory(phase1)\n",
    "    env = phase1.env.copy()\n",
    "    env[trajectory] = EXIT_MAP_VALUE\n",
    "    env = np.array(Image.fromarray(env).resize((512, 512)))\n",
    "    plt.imsave(\"./trajectory/trajectory_\" + str(i) + \".jpg\",\n",
    "               env, cmap='gray')"
   ]
  },
  {
   "cell_type": "code",
   "execution_count": 9,
   "metadata": {
    "code_folding": []
   },
   "outputs": [],
   "source": [
    "def arr2bytes(arr):\n",
    "    \"\"\"Display a 2- or 3-d numpy array as an image.\"\"\"\n",
    "    if arr.ndim == 2:\n",
    "        format, cmap = 'png', mpl.cm.gray\n",
    "    elif arr.ndim == 3:\n",
    "        format, cmap = 'jpg', None\n",
    "    else:\n",
    "        raise ValueError(\"Only 2- or 3-d arrays can be displayed as images.\")\n",
    "    # Don't let matplotlib autoscale the color range so we can control overall luminosity\n",
    "    vmax = 255 if arr.dtype == 'uint8' else 1.0\n",
    "    with BytesIO() as buffer:\n",
    "        mpl.image.imsave(buffer, arr, format=format, cmap=cmap, vmin=0, vmax=vmax)\n",
    "        out = buffer.getvalue()\n",
    "    return out"
   ]
  },
  {
   "cell_type": "code",
   "execution_count": 10,
   "metadata": {
    "scrolled": true
   },
   "outputs": [
    {
     "data": {
      "application/vnd.jupyter.widget-view+json": {
       "model_id": "9d7d8a2929e344cdb8a5e55668b41eea",
       "version_major": 2,
       "version_minor": 0
      },
      "text/plain": [
       "HBox(children=(Image(value=b'\\x89PNG\\r\\n\\x1a\\n\\x00\\x00\\x00\\rIHDR\\x00\\x00\\x02\\x00\\x00\\x00\\x02\\x00\\x08\\x06\\x00\\x…"
      ]
     },
     "metadata": {},
     "output_type": "display_data"
    },
    {
     "name": "stderr",
     "output_type": "stream",
     "text": [
      "100%|████████████████████████████████████████████████████████████████████████████| 10000/10000 [16:59<00:00,  9.81it/s]\n"
     ]
    }
   ],
   "source": [
    "from tqdm import tqdm_notebook\n",
    "\n",
    "CORRIDOR_SHAPE = (21, 11) ## needs to be odd\n",
    "\n",
    "phase1 = Phase1(CORRIDOR_SHAPE)\n",
    "\n",
    "N_STEPS = 10000\n",
    "SAVE_EVERY = 50\n",
    "\n",
    "\n",
    "neighscore_widget = widgets.Image(\n",
    "    value=arr2bytes(np.array(Image.fromarray(get_neighbor_score_matrix(phase1)).resize((512,512)))),\n",
    "    format='jpg',\n",
    "    width=256,\n",
    "    height=256,\n",
    ")\n",
    "\n",
    "trajectory_widget = widgets.Image(\n",
    "    value=arr2bytes(np.array(Image.fromarray(get_best_trajectory_matrix(phase1)).resize((512,512)))),\n",
    "    format='jpg',\n",
    "    width=256,\n",
    "    height=256,\n",
    ")\n",
    "\n",
    "step_widget = widgets.IntSlider(min = 0,\n",
    "                                max = N_STEPS,\n",
    "                                value = 0,\n",
    "                                disabled = True)\n",
    "\n",
    "display(widgets.HBox([neighscore_widget, trajectory_widget]))\n",
    "\n",
    "best_scores = []\n",
    "for i in tqdm_notebook(range(N_STEPS)):\n",
    "   # step_widget.value = i\n",
    "    if i % SAVE_EVERY == 0:\n",
    "        save_path = save_score_matrix(phase1, i)\n",
    "        save_trajectory(phase1, i)\n",
    "        file = open(save_path, \"rb\")\n",
    "        image = file.read()\n",
    "        max_score = -1\n",
    "        for key,value in phase1.cell_cumulative_scores.items():\n",
    "            if value > max_score:\n",
    "                max_score = value\n",
    "                cell = key\n",
    "        \n",
    "        neighscore_widget.value=arr2bytes((np.array(Image.fromarray(get_score_matrix(phase1)).resize((256,256)))))\n",
    "        file.close()\n",
    "        trajectory_widget.value=arr2bytes((np.array(Image.fromarray(get_best_trajectory_matrix(phase1)).resize((256,256)))))\n",
    "    \n",
    "    phase1.explore()\n",
    "    \n",
    "    best_score = max(phase1.cell_cumulative_scores.values())\n",
    "    best_scores.append(best_score)\n",
    "    \n",
    "\n",
    "max_score = -1\n",
    "for key,value in phase1.cell_cumulative_scores.items():\n",
    "    if value > max_score:\n",
    "        max_score = value\n",
    "        cell = key\n",
    "\n",
    "path = phase1.xys[cell]\n",
    "real_trajectory_x = []\n",
    "real_trajectory_y = []\n",
    "\n",
    "for xy in path:\n",
    "    real_trajectory_x.append(xy[0])\n",
    "    real_trajectory_y.append(xy[1])\n",
    "    \n",
    "real_trajectory_x = tuple(real_trajectory_x)\n",
    "real_trajectory_y = tuple(real_trajectory_y)\n",
    "\n",
    "real_trajectory = tuple([real_trajectory_x, real_trajectory_y])\n",
    "            "
   ]
  },
  {
   "cell_type": "markdown",
   "metadata": {},
   "source": [
    "## Animate Exploration"
   ]
  },
  {
   "cell_type": "code",
   "execution_count": 12,
   "metadata": {},
   "outputs": [],
   "source": [
    "### Make GIF of run\n",
    "import imageio\n",
    "import glob\n",
    "import re\n",
    "\n",
    "\n",
    "def tryint(s):\n",
    "    try:\n",
    "        return int(s)\n",
    "    except:\n",
    "        return s\n",
    "\n",
    "\n",
    "def alphanum_key(s):\n",
    "    \"\"\" Turn a string into a list of string and number chunks.\n",
    "        \"z23a\" -> [\"z\", 23, \"a\"]\n",
    "    \"\"\"\n",
    "    return [tryint(c) for c in re.split('([0-9]+)', s)]\n",
    "\n",
    "\n",
    "def sort_nicely(l):\n",
    "    \"\"\" Sort the given list in the way that humans expect.\n",
    "    \"\"\"\n",
    "    l.sort(key=alphanum_key)\n",
    "\n",
    "\n",
    "path = './'\n",
    "filenames1 = [f for f in glob.glob(path + \"score_matrix/*\", recursive=True)]\n",
    "filenames2 = [f for f in glob.glob(path + \"trajectory/*\", recursive=True)]\n",
    "sort_nicely(filenames1)\n",
    "sort_nicely(filenames2)\n",
    "\n",
    "with imageio.get_writer('run2.gif', mode='I') as writer:\n",
    "    for filename1, filename2 in zip(filenames1, filenames2):\n",
    "        image1 = imageio.imread(filename1)\n",
    "        image2 = imageio.imread(filename2)\n",
    "        writer.append_data(np.concatenate([image1, image2], axis=1))"
   ]
  },
  {
   "cell_type": "markdown",
   "metadata": {},
   "source": [
    "## Save Best Run"
   ]
  },
  {
   "cell_type": "code",
   "execution_count": 21,
   "metadata": {},
   "outputs": [],
   "source": [
    "best_run = phase1.archive[cell]"
   ]
  },
  {
   "cell_type": "code",
   "execution_count": null,
   "metadata": {},
   "outputs": [],
   "source": [
    "with open(\"best_run.csv\", \"w\") as file:\n",
    "    for i in range(len(best_run)):\n",
    "        string  = str(best_run[i]) + \",\\n\"\n",
    "        file.write(string)"
   ]
  },
  {
   "cell_type": "markdown",
   "metadata": {},
   "source": [
    "## Import Best Run"
   ]
  },
  {
   "cell_type": "code",
   "execution_count": 59,
   "metadata": {},
   "outputs": [],
   "source": [
    "import pandas as pd\n",
    "X = pd.read_csv(\"best_run.csv\", header = None)\n",
    "best_run1 = X.drop([1], axis = 1).to_numpy().flatten()"
   ]
  },
  {
   "cell_type": "code",
   "execution_count": 61,
   "metadata": {},
   "outputs": [
    {
     "data": {
      "text/plain": [
       "True"
      ]
     },
     "execution_count": 61,
     "metadata": {},
     "output_type": "execute_result"
    }
   ],
   "source": [
    "(best_run == best_run1).all()"
   ]
  },
  {
   "cell_type": "markdown",
   "metadata": {},
   "source": [
    "## Animate Best Run"
   ]
  },
  {
   "cell_type": "code",
   "execution_count": 115,
   "metadata": {},
   "outputs": [],
   "source": [
    "from tqdm import tqdm_notebook"
   ]
  },
  {
   "cell_type": "code",
   "execution_count": 95,
   "metadata": {},
   "outputs": [],
   "source": [
    "i = 100\n"
   ]
  },
  {
   "cell_type": "code",
   "execution_count": 138,
   "metadata": {},
   "outputs": [
    {
     "data": {
      "application/vnd.jupyter.widget-view+json": {
       "model_id": "4cba43dc79954c4ba63dd1852a888ed8",
       "version_major": 2,
       "version_minor": 0
      },
      "text/plain": [
       "HBox(children=(IntProgress(value=0, max=6824), HTML(value='')))"
      ]
     },
     "metadata": {},
     "output_type": "display_data"
    },
    {
     "ename": "KeyboardInterrupt",
     "evalue": "",
     "output_type": "error",
     "traceback": [
      "\u001b[1;31m---------------------------------------------------------------------------\u001b[0m",
      "\u001b[1;31mKeyboardInterrupt\u001b[0m                         Traceback (most recent call last)",
      "\u001b[1;32m<ipython-input-138-47276b393684>\u001b[0m in \u001b[0;36m<module>\u001b[1;34m\u001b[0m\n\u001b[0;32m     19\u001b[0m     \u001b[0menv\u001b[0m\u001b[1;33m[\u001b[0m\u001b[0mtail\u001b[0m\u001b[1;33m]\u001b[0m \u001b[1;33m=\u001b[0m \u001b[0mEXIT_MAP_VALUE\u001b[0m \u001b[1;33m*\u001b[0m \u001b[0malphas\u001b[0m\u001b[1;33m[\u001b[0m\u001b[1;33m-\u001b[0m\u001b[0mmin\u001b[0m\u001b[1;33m(\u001b[0m\u001b[0mtrajectory_tail\u001b[0m \u001b[1;33m+\u001b[0m \u001b[1;36m1\u001b[0m\u001b[1;33m,\u001b[0m \u001b[0mi\u001b[0m\u001b[1;33m+\u001b[0m\u001b[1;36m1\u001b[0m\u001b[1;33m)\u001b[0m\u001b[1;33m:\u001b[0m\u001b[1;33m]\u001b[0m\u001b[1;33m\u001b[0m\u001b[1;33m\u001b[0m\u001b[0m\n\u001b[0;32m     20\u001b[0m     \u001b[0menv\u001b[0m \u001b[1;33m=\u001b[0m \u001b[0mnp\u001b[0m\u001b[1;33m.\u001b[0m\u001b[0marray\u001b[0m\u001b[1;33m(\u001b[0m\u001b[0mImage\u001b[0m\u001b[1;33m.\u001b[0m\u001b[0mfromarray\u001b[0m\u001b[1;33m(\u001b[0m\u001b[0menv\u001b[0m\u001b[1;33m)\u001b[0m\u001b[1;33m.\u001b[0m\u001b[0mresize\u001b[0m\u001b[1;33m(\u001b[0m\u001b[1;33m(\u001b[0m\u001b[1;36m512\u001b[0m\u001b[1;33m,\u001b[0m \u001b[1;36m512\u001b[0m\u001b[1;33m)\u001b[0m\u001b[1;33m)\u001b[0m\u001b[1;33m)\u001b[0m\u001b[1;33m\u001b[0m\u001b[1;33m\u001b[0m\u001b[0m\n\u001b[1;32m---> 21\u001b[1;33m     \u001b[0mplt\u001b[0m\u001b[1;33m.\u001b[0m\u001b[0mimsave\u001b[0m\u001b[1;33m(\u001b[0m\u001b[1;34m\"./best_run/trajectory_{}.jpg\"\u001b[0m\u001b[1;33m.\u001b[0m\u001b[0mformat\u001b[0m\u001b[1;33m(\u001b[0m\u001b[0mi\u001b[0m\u001b[1;33m)\u001b[0m\u001b[1;33m,\u001b[0m \u001b[0menv\u001b[0m\u001b[1;33m,\u001b[0m \u001b[0mcmap\u001b[0m \u001b[1;33m=\u001b[0m \u001b[1;34m'gray'\u001b[0m\u001b[1;33m)\u001b[0m\u001b[1;33m\u001b[0m\u001b[1;33m\u001b[0m\u001b[0m\n\u001b[0m\u001b[0;32m     22\u001b[0m \u001b[1;33m\u001b[0m\u001b[0m\n",
      "\u001b[1;32m~\\Anaconda3\\lib\\site-packages\\matplotlib\\pyplot.py\u001b[0m in \u001b[0;36mimsave\u001b[1;34m(fname, arr, **kwargs)\u001b[0m\n\u001b[0;32m   2138\u001b[0m \u001b[1;33m@\u001b[0m\u001b[0mdocstring\u001b[0m\u001b[1;33m.\u001b[0m\u001b[0mcopy\u001b[0m\u001b[1;33m(\u001b[0m\u001b[0mmatplotlib\u001b[0m\u001b[1;33m.\u001b[0m\u001b[0mimage\u001b[0m\u001b[1;33m.\u001b[0m\u001b[0mimsave\u001b[0m\u001b[1;33m)\u001b[0m\u001b[1;33m\u001b[0m\u001b[1;33m\u001b[0m\u001b[0m\n\u001b[0;32m   2139\u001b[0m \u001b[1;32mdef\u001b[0m \u001b[0mimsave\u001b[0m\u001b[1;33m(\u001b[0m\u001b[0mfname\u001b[0m\u001b[1;33m,\u001b[0m \u001b[0marr\u001b[0m\u001b[1;33m,\u001b[0m \u001b[1;33m**\u001b[0m\u001b[0mkwargs\u001b[0m\u001b[1;33m)\u001b[0m\u001b[1;33m:\u001b[0m\u001b[1;33m\u001b[0m\u001b[1;33m\u001b[0m\u001b[0m\n\u001b[1;32m-> 2140\u001b[1;33m     \u001b[1;32mreturn\u001b[0m \u001b[0mmatplotlib\u001b[0m\u001b[1;33m.\u001b[0m\u001b[0mimage\u001b[0m\u001b[1;33m.\u001b[0m\u001b[0mimsave\u001b[0m\u001b[1;33m(\u001b[0m\u001b[0mfname\u001b[0m\u001b[1;33m,\u001b[0m \u001b[0marr\u001b[0m\u001b[1;33m,\u001b[0m \u001b[1;33m**\u001b[0m\u001b[0mkwargs\u001b[0m\u001b[1;33m)\u001b[0m\u001b[1;33m\u001b[0m\u001b[1;33m\u001b[0m\u001b[0m\n\u001b[0m\u001b[0;32m   2141\u001b[0m \u001b[1;33m\u001b[0m\u001b[0m\n\u001b[0;32m   2142\u001b[0m \u001b[1;33m\u001b[0m\u001b[0m\n",
      "\u001b[1;32m~\\Anaconda3\\lib\\site-packages\\matplotlib\\image.py\u001b[0m in \u001b[0;36mimsave\u001b[1;34m(fname, arr, vmin, vmax, cmap, format, origin, dpi)\u001b[0m\n\u001b[0;32m   1494\u001b[0m         \u001b[1;32mif\u001b[0m \u001b[0morigin\u001b[0m \u001b[1;33m==\u001b[0m \u001b[1;34m\"lower\"\u001b[0m\u001b[1;33m:\u001b[0m\u001b[1;33m\u001b[0m\u001b[1;33m\u001b[0m\u001b[0m\n\u001b[0;32m   1495\u001b[0m             \u001b[0marr\u001b[0m \u001b[1;33m=\u001b[0m \u001b[0marr\u001b[0m\u001b[1;33m[\u001b[0m\u001b[1;33m:\u001b[0m\u001b[1;33m:\u001b[0m\u001b[1;33m-\u001b[0m\u001b[1;36m1\u001b[0m\u001b[1;33m]\u001b[0m\u001b[1;33m\u001b[0m\u001b[1;33m\u001b[0m\u001b[0m\n\u001b[1;32m-> 1496\u001b[1;33m         \u001b[0mrgba\u001b[0m \u001b[1;33m=\u001b[0m \u001b[0msm\u001b[0m\u001b[1;33m.\u001b[0m\u001b[0mto_rgba\u001b[0m\u001b[1;33m(\u001b[0m\u001b[0marr\u001b[0m\u001b[1;33m,\u001b[0m \u001b[0mbytes\u001b[0m\u001b[1;33m=\u001b[0m\u001b[1;32mTrue\u001b[0m\u001b[1;33m)\u001b[0m\u001b[1;33m\u001b[0m\u001b[1;33m\u001b[0m\u001b[0m\n\u001b[0m\u001b[0;32m   1497\u001b[0m         \u001b[1;32mif\u001b[0m \u001b[0mformat\u001b[0m \u001b[1;33m==\u001b[0m \u001b[1;34m\"png\"\u001b[0m\u001b[1;33m:\u001b[0m\u001b[1;33m\u001b[0m\u001b[1;33m\u001b[0m\u001b[0m\n\u001b[0;32m   1498\u001b[0m             \u001b[0m_png\u001b[0m\u001b[1;33m.\u001b[0m\u001b[0mwrite_png\u001b[0m\u001b[1;33m(\u001b[0m\u001b[0mrgba\u001b[0m\u001b[1;33m,\u001b[0m \u001b[0mfname\u001b[0m\u001b[1;33m,\u001b[0m \u001b[0mdpi\u001b[0m\u001b[1;33m=\u001b[0m\u001b[0mdpi\u001b[0m\u001b[1;33m)\u001b[0m\u001b[1;33m\u001b[0m\u001b[1;33m\u001b[0m\u001b[0m\n",
      "\u001b[1;32m~\\Anaconda3\\lib\\site-packages\\matplotlib\\cm.py\u001b[0m in \u001b[0;36mto_rgba\u001b[1;34m(self, x, alpha, bytes, norm)\u001b[0m\n\u001b[0;32m    288\u001b[0m         \u001b[1;32mif\u001b[0m \u001b[0mnorm\u001b[0m\u001b[1;33m:\u001b[0m\u001b[1;33m\u001b[0m\u001b[1;33m\u001b[0m\u001b[0m\n\u001b[0;32m    289\u001b[0m             \u001b[0mx\u001b[0m \u001b[1;33m=\u001b[0m \u001b[0mself\u001b[0m\u001b[1;33m.\u001b[0m\u001b[0mnorm\u001b[0m\u001b[1;33m(\u001b[0m\u001b[0mx\u001b[0m\u001b[1;33m)\u001b[0m\u001b[1;33m\u001b[0m\u001b[1;33m\u001b[0m\u001b[0m\n\u001b[1;32m--> 290\u001b[1;33m         \u001b[0mrgba\u001b[0m \u001b[1;33m=\u001b[0m \u001b[0mself\u001b[0m\u001b[1;33m.\u001b[0m\u001b[0mcmap\u001b[0m\u001b[1;33m(\u001b[0m\u001b[0mx\u001b[0m\u001b[1;33m,\u001b[0m \u001b[0malpha\u001b[0m\u001b[1;33m=\u001b[0m\u001b[0malpha\u001b[0m\u001b[1;33m,\u001b[0m \u001b[0mbytes\u001b[0m\u001b[1;33m=\u001b[0m\u001b[0mbytes\u001b[0m\u001b[1;33m)\u001b[0m\u001b[1;33m\u001b[0m\u001b[1;33m\u001b[0m\u001b[0m\n\u001b[0m\u001b[0;32m    291\u001b[0m         \u001b[1;32mreturn\u001b[0m \u001b[0mrgba\u001b[0m\u001b[1;33m\u001b[0m\u001b[1;33m\u001b[0m\u001b[0m\n\u001b[0;32m    292\u001b[0m \u001b[1;33m\u001b[0m\u001b[0m\n",
      "\u001b[1;32m~\\Anaconda3\\lib\\site-packages\\matplotlib\\colors.py\u001b[0m in \u001b[0;36m__call__\u001b[1;34m(self, X, alpha, bytes)\u001b[0m\n\u001b[0;32m    525\u001b[0m             \u001b[1;31m# Negative values are out of range, but astype(int) would truncate\u001b[0m\u001b[1;33m\u001b[0m\u001b[1;33m\u001b[0m\u001b[1;33m\u001b[0m\u001b[0m\n\u001b[0;32m    526\u001b[0m             \u001b[1;31m# them towards zero.\u001b[0m\u001b[1;33m\u001b[0m\u001b[1;33m\u001b[0m\u001b[1;33m\u001b[0m\u001b[0m\n\u001b[1;32m--> 527\u001b[1;33m             \u001b[0mxa\u001b[0m\u001b[1;33m[\u001b[0m\u001b[0mxa\u001b[0m \u001b[1;33m<\u001b[0m \u001b[1;36m0\u001b[0m\u001b[1;33m]\u001b[0m \u001b[1;33m=\u001b[0m \u001b[1;33m-\u001b[0m\u001b[1;36m1\u001b[0m\u001b[1;33m\u001b[0m\u001b[1;33m\u001b[0m\u001b[0m\n\u001b[0m\u001b[0;32m    528\u001b[0m             \u001b[1;31m# xa == 1 (== N after multiplication) is not out of range.\u001b[0m\u001b[1;33m\u001b[0m\u001b[1;33m\u001b[0m\u001b[1;33m\u001b[0m\u001b[0m\n\u001b[0;32m    529\u001b[0m             \u001b[0mxa\u001b[0m\u001b[1;33m[\u001b[0m\u001b[0mxa\u001b[0m \u001b[1;33m==\u001b[0m \u001b[0mself\u001b[0m\u001b[1;33m.\u001b[0m\u001b[0mN\u001b[0m\u001b[1;33m]\u001b[0m \u001b[1;33m=\u001b[0m \u001b[0mself\u001b[0m\u001b[1;33m.\u001b[0m\u001b[0mN\u001b[0m \u001b[1;33m-\u001b[0m \u001b[1;36m1\u001b[0m\u001b[1;33m\u001b[0m\u001b[1;33m\u001b[0m\u001b[0m\n",
      "\u001b[1;31mKeyboardInterrupt\u001b[0m: "
     ]
    }
   ],
   "source": [
    "SEEDS = [42, 43, 44, 45]\n",
    "CORRIDOR_SHAPE = (21, 11) # should be odd numbers for perfect symmetry\n",
    "\n",
    "# trajectory of the agent\n",
    "agent_xy = phase1.xys[cell]\n",
    "trajectory_tail = 10\n",
    "alphas = np.linspace(0, 1, 11) ** 2\n",
    "\n",
    "\n",
    "for i in tqdm_notebook(range(len(agent_xy))):\n",
    "    env = create_env(CORRIDOR_SHAPE, SEEDS)\n",
    "    tail = np.array(agent_xy[max(0, i-trajectory_tail):i+1])\n",
    "    tail = (tuple(tail[:,0]), tuple(tail[:,1]))\n",
    "\n",
    "    trajectory = np.array(agent_xy[:i+1])\n",
    "    trajectory = (tuple(trajectory[:,0]), tuple(trajectory[:,1]))\n",
    "\n",
    "    env[trajectory] = 0\n",
    "    env[tail] = EXIT_MAP_VALUE * alphas[-min(trajectory_tail + 1, i+1):]\n",
    "    env = np.array(Image.fromarray(env).resize((512, 512)))\n",
    "    plt.imsave(\"./best_run/trajectory_{}.jpg\".format(i), env, cmap = 'gray')\n",
    "    \n"
   ]
  },
  {
   "cell_type": "code",
   "execution_count": 113,
   "metadata": {},
   "outputs": [
    {
     "name": "stderr",
     "output_type": "stream",
     "text": [
      "100%|██████████████████████████████████████████████████████████████████████████████| 6824/6824 [09:38<00:00, 11.79it/s]\n"
     ]
    }
   ],
   "source": [
    "path = './'\n",
    "filenames = [f for f in glob.glob(path + \"best_run/*\", recursive=True)]\n",
    "sort_nicely(filenames)\n",
    "\n",
    "\n",
    "with imageio.get_writer('agent_run.gif', mode='I') as writer:\n",
    "    for filename in tqdm(filenames):\n",
    "        image = imageio.imread(filename)\n",
    "        writer.append_data(image)"
   ]
  },
  {
   "cell_type": "code",
   "execution_count": 123,
   "metadata": {},
   "outputs": [],
   "source": [
    "env = (env - env.min())/env.max()"
   ]
  },
  {
   "cell_type": "code",
   "execution_count": 124,
   "metadata": {},
   "outputs": [
    {
     "data": {
      "text/plain": [
       "<matplotlib.image.AxesImage at 0x1fe2c07f588>"
      ]
     },
     "execution_count": 124,
     "metadata": {},
     "output_type": "execute_result"
    },
    {
     "data": {
      "image/png": "[encoded data removed]",
      "text/plain": [
       "<Figure size 432x288 with 1 Axes>"
      ]
     },
     "metadata": {
      "needs_background": "light"
     },
     "output_type": "display_data"
    }
   ],
   "source": [
    "plt.imshow(env, cmap = 'gray')"
   ]
  },
  {
   "cell_type": "code",
   "execution_count": 136,
   "metadata": {},
   "outputs": [
    {
     "data": {
      "text/plain": [
       "<matplotlib.image.AxesImage at 0x1fe2c0b21d0>"
      ]
     },
     "execution_count": 136,
     "metadata": {},
     "output_type": "execute_result"
    },
    {
     "data": {
      "image/png": "[encoded data removed]",
      "text/plain": [
       "<Figure size 432x288 with 1 Axes>"
      ]
     },
     "metadata": {
      "needs_background": "light"
     },
     "output_type": "display_data"
    }
   ],
   "source": [
    "env = create_env(CORRIDOR_SHAPE, SEEDS)\n",
    "tail = np.array(agent_xy[max(0, i-trajectory_tail):i+1])\n",
    "tail = (tuple(tail[:,0]), tuple(tail[:,1]))\n",
    "\n",
    "trajectory = np.array(agent_xy[:i+1])\n",
    "trajectory = (tuple(trajectory[:,0]), tuple(trajectory[:,1]))\n",
    "\n",
    "env[trajectory] = 0\n",
    "env[tail] = EXIT_MAP_VALUE * alphas[-min(trajectory\n",
    "env = (env - env.min())/env.max()\n",
    "#env = np.array(Image.fromarray(env).resize((512, 512)))\n",
    "plt.imshow(env, cmap = 'gray')"
   ]
  },
  {
   "cell_type": "code",
   "execution_count": 132,
   "metadata": {},
   "outputs": [
    {
     "data": {
      "text/plain": [
       "4471"
      ]
     },
     "execution_count": 132,
     "metadata": {},
     "output_type": "execute_result"
    }
   ],
   "source": [
    "i"
   ]
  },
  {
   "cell_type": "code",
   "execution_count": 129,
   "metadata": {},
   "outputs": [
    {
     "data": {
      "text/plain": [
       "2"
      ]
     },
     "execution_count": 129,
     "metadata": {},
     "output_type": "execute_result"
    }
   ],
   "source": [
    "len(tail)"
   ]
  },
  {
   "cell_type": "code",
   "execution_count": null,
   "metadata": {},
   "outputs": [],
   "source": []
  }
 ],
 "metadata": {
  "hide_input": false,
  "kernelspec": {
   "display_name": "Python 3",
   "language": "python",
   "name": "python3"
  },
  "language_info": {
   "codemirror_mode": {
    "name": "ipython",
    "version": 3
   },
   "file_extension": ".py",
   "mimetype": "text/x-python",
   "name": "python",
   "nbconvert_exporter": "python",
   "pygments_lexer": "ipython3",
   "version": "3.7.3"
  }
 },
 "nbformat": 4,
 "nbformat_minor": 2
}
